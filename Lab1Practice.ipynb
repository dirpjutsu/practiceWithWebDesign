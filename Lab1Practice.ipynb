{
  "nbformat": 4,
  "nbformat_minor": 0,
  "metadata": {
    "colab": {
      "name": "Lab1Practice.ipynb",
      "provenance": [],
      "collapsed_sections": [],
      "authorship_tag": "ABX9TyPDiykOL4H+CP5bSvmaQ0wM",
      "include_colab_link": true
    },
    "kernelspec": {
      "name": "python3",
      "display_name": "Python 3"
    }
  },
  "cells": [
    {
      "cell_type": "markdown",
      "metadata": {
        "id": "view-in-github",
        "colab_type": "text"
      },
      "source": [
        "<a href=\"https://colab.research.google.com/github/dirpjutsu/practiceWithWebDesign/blob/master/Lab1Practice.ipynb\" target=\"_parent\"><img src=\"https://colab.research.google.com/assets/colab-badge.svg\" alt=\"Open In Colab\"/></a>"
      ]
    },
    {
      "cell_type": "markdown",
      "metadata": {
        "id": "2-Zo0cymv9hf",
        "colab_type": "text"
      },
      "source": [
        "## Do you like using Jupyter Notebooks?"
      ]
    },
    {
      "cell_type": "markdown",
      "metadata": {
        "id": "FCRxYmFGwAM7",
        "colab_type": "text"
      },
      "source": [
        "Yes, I like using Jupyter Notebooks. I find it very intresting."
      ]
    },
    {
      "cell_type": "markdown",
      "metadata": {
        "id": "Ciw6A_r_xkIx",
        "colab_type": "text"
      },
      "source": [
        "## What do you want to learn more about in Jupyter Notebooks?"
      ]
    },
    {
      "cell_type": "markdown",
      "metadata": {
        "id": "HQSKY-bogfoE",
        "colab_type": "text"
      },
      "source": [
        "I want to learn more about the features this software has to offer. Also, I would like to know how this software is useful for software development."
      ]
    },
    {
      "cell_type": "markdown",
      "metadata": {
        "id": "dXUSs04Ggkcs",
        "colab_type": "text"
      },
      "source": [
        "![picture of a person](https://raw.githubusercontent.com/dirpjutsu/practiceWithWebDesign/master/Images/IMG_1715.JPG)"
      ]
    }
  ]
}